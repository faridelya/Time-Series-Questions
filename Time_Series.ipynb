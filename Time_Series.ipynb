{
  "nbformat": 4,
  "nbformat_minor": 0,
  "metadata": {
    "colab": {
      "name": "Time-Series.ipynb",
      "provenance": [],
      "authorship_tag": "ABX9TyP80J7168W/ZNCRIXSp/fDc",
      "include_colab_link": true
    },
    "kernelspec": {
      "name": "python3",
      "display_name": "Python 3"
    },
    "language_info": {
      "name": "python"
    }
  },
  "cells": [
    {
      "cell_type": "markdown",
      "metadata": {
        "id": "view-in-github",
        "colab_type": "text"
      },
      "source": [
        "<a href=\"https://colab.research.google.com/github/faridelya/Time-Series-Questions/blob/main/Time_Series.ipynb\" target=\"_parent\"><img src=\"https://colab.research.google.com/assets/colab-badge.svg\" alt=\"Open In Colab\"/></a>"
      ]
    },
    {
      "cell_type": "code",
      "execution_count": 2,
      "metadata": {
        "colab": {
          "base_uri": "https://localhost:8080/"
        },
        "id": "pLWmpeq5S_2e",
        "outputId": "5e920587-4a45-43eb-fbd8-6f280bfdd062"
      },
      "outputs": [
        {
          "output_type": "stream",
          "name": "stdout",
          "text": [
            "TimeSeriesSplit(gap=0, max_train_size=None, n_splits=5, test_size=None)\n"
          ]
        }
      ],
      "source": [
        "import numpy as np\n",
        "from sklearn.model_selection import TimeSeriesSplit\n",
        "X = np.array([[1, 2], [3, 4], [1, 2], [3, 4], [1, 2], [3, 4]])\n",
        "y = np.array([1, 2, 3, 4, 5, 6])\n",
        "tscv = TimeSeriesSplit()\n",
        "print(tscv)\n"
      ]
    },
    {
      "cell_type": "markdown",
      "source": [
        "**Cross-Validation**"
      ],
      "metadata": {
        "id": "P7j3tnP9TL8b"
      }
    },
    {
      "cell_type": "code",
      "source": [
        "# showing the split strategy\n",
        "tscv = TimeSeriesSplit(max_train_size=None, n_splits=4)\n",
        "\n",
        "for train_index, test_index in tscv.split(X):\n",
        "  print(\"TRAIN:\", train_index, \"TEST:\", test_index)\n",
        "  \n",
        "  "
      ],
      "metadata": {
        "colab": {
          "base_uri": "https://localhost:8080/"
        },
        "id": "oF8Jg7XOTItx",
        "outputId": "2d70a567-a6ce-45d5-f8fc-f6a76c6d682b"
      },
      "execution_count": 19,
      "outputs": [
        {
          "output_type": "stream",
          "name": "stdout",
          "text": [
            "TRAIN: [0 1] TEST: [2]\n",
            "TRAIN: [0 1 2] TEST: [3]\n",
            "TRAIN: [0 1 2 3] TEST: [4]\n",
            "TRAIN: [0 1 2 3 4] TEST: [5]\n"
          ]
        }
      ]
    },
    {
      "cell_type": "code",
      "source": [
        "for train_index, test_index in tscv.split(X):\n",
        "  X_train, X_test = X[train_index], X[test_index]\n",
        "  print( \"Train\",X_train ,\"            \",\"Test\", X_test )"
      ],
      "metadata": {
        "colab": {
          "base_uri": "https://localhost:8080/"
        },
        "id": "jF2heTazTVoa",
        "outputId": "b3fbff5d-4f42-42db-fe43-83771bf5f0ea"
      },
      "execution_count": 17,
      "outputs": [
        {
          "output_type": "stream",
          "name": "stdout",
          "text": [
            "Train [[1 2]\n",
            " [3 4]]              Test [[1 2]]\n",
            "Train [[1 2]\n",
            " [3 4]\n",
            " [1 2]]              Test [[3 4]]\n",
            "Train [[1 2]\n",
            " [3 4]\n",
            " [1 2]\n",
            " [3 4]]              Test [[1 2]]\n",
            "Train [[1 2]\n",
            " [3 4]\n",
            " [1 2]\n",
            " [3 4]\n",
            " [1 2]]              Test [[3 4]]\n"
          ]
        }
      ]
    },
    {
      "cell_type": "code",
      "source": [
        "\n",
        "for train_index, test_index in tscv.split(X):\n",
        "  y_train, y_test = y[train_index], y[test_index]\n",
        "  print(\"Train:\",y_train, \"Test:\",y_test)"
      ],
      "metadata": {
        "colab": {
          "base_uri": "https://localhost:8080/"
        },
        "id": "d-g6-BnXWNZl",
        "outputId": "dff8226f-351c-40c4-b28c-33ba3cf752fc"
      },
      "execution_count": 18,
      "outputs": [
        {
          "output_type": "stream",
          "name": "stdout",
          "text": [
            "Train: [1 2] Test: [3]\n",
            "Train: [1 2 3] Test: [4]\n",
            "Train: [1 2 3 4] Test: [5]\n",
            "Train: [1 2 3 4 5] Test: [6]\n"
          ]
        }
      ]
    }
  ]
}